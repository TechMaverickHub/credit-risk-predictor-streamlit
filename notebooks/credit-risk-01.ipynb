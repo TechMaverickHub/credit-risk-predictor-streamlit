{
 "cells": [
  {
   "cell_type": "markdown",
   "metadata": {},
   "source": [
    "# Credit Risk Modeling Project\n",
    "\n",
    "## 1. Problem Definition\n",
    "- **Goal:** Predict the probability of loan default (`loan_status`).\n",
    "- **Why it matters:**  \n",
    "  - Minimize bank losses.  \n",
    "  - Ensure compliance with financial regulations.  \n",
    "  - Make fair, data-driven lending decisions.  "
   ]
  },
  {
   "cell_type": "code",
   "execution_count": null,
   "metadata": {},
   "outputs": [],
   "source": [
    "import pandas as pd\n",
    "import numpy as np"
   ]
  },
  {
   "cell_type": "markdown",
   "metadata": {},
   "source": []
  },
  {
   "cell_type": "code",
   "execution_count": 2,
   "metadata": {
    "execution": {
     "iopub.execute_input": "2025-09-05T04:53:53.839574Z",
     "iopub.status.busy": "2025-09-05T04:53:53.839064Z",
     "iopub.status.idle": "2025-09-05T04:53:53.934960Z",
     "shell.execute_reply": "2025-09-05T04:53:53.934201Z",
     "shell.execute_reply.started": "2025-09-05T04:53:53.839529Z"
    },
    "trusted": true
   },
   "outputs": [],
   "source": [
    "df = pd.read_csv(\"/kaggle/input/credit-risk-dataset/credit_risk_dataset.csv\")"
   ]
  },
  {
   "cell_type": "markdown",
   "metadata": {},
   "source": [
    "Check Shape\n"
   ]
  },
  {
   "cell_type": "code",
   "execution_count": 3,
   "metadata": {
    "execution": {
     "iopub.execute_input": "2025-09-05T04:53:53.937706Z",
     "iopub.status.busy": "2025-09-05T04:53:53.937090Z",
     "iopub.status.idle": "2025-09-05T04:53:53.943582Z",
     "shell.execute_reply": "2025-09-05T04:53:53.942925Z",
     "shell.execute_reply.started": "2025-09-05T04:53:53.937683Z"
    },
    "trusted": true
   },
   "outputs": [
    {
     "data": {
      "text/plain": [
       "(32581, 12)"
      ]
     },
     "execution_count": 3,
     "metadata": {},
     "output_type": "execute_result"
    }
   ],
   "source": [
    "df.shape"
   ]
  },
  {
   "cell_type": "markdown",
   "metadata": {},
   "source": [
    "---\n",
    "\n",
    "## 2. Dataset\n",
    "- **Borrower features:** age, income, home ownership, employment length.  \n",
    "- **Loan features:** intent, grade, amount, interest rate, loan/income %.  \n",
    "- **Credit bureau features:** default history, credit history length.  \n",
    "- **Target:** `loan_status` (0 = repaid, 1 = default).  \n",
    "\n",
    "---"
   ]
  },
  {
   "cell_type": "code",
   "execution_count": 4,
   "metadata": {
    "execution": {
     "iopub.execute_input": "2025-09-05T04:53:53.944640Z",
     "iopub.status.busy": "2025-09-05T04:53:53.944384Z",
     "iopub.status.idle": "2025-09-05T04:53:53.979402Z",
     "shell.execute_reply": "2025-09-05T04:53:53.978705Z",
     "shell.execute_reply.started": "2025-09-05T04:53:53.944621Z"
    },
    "trusted": true
   },
   "outputs": [
    {
     "data": {
      "text/html": [
       "<div>\n",
       "<style scoped>\n",
       "    .dataframe tbody tr th:only-of-type {\n",
       "        vertical-align: middle;\n",
       "    }\n",
       "\n",
       "    .dataframe tbody tr th {\n",
       "        vertical-align: top;\n",
       "    }\n",
       "\n",
       "    .dataframe thead th {\n",
       "        text-align: right;\n",
       "    }\n",
       "</style>\n",
       "<table border=\"1\" class=\"dataframe\">\n",
       "  <thead>\n",
       "    <tr style=\"text-align: right;\">\n",
       "      <th></th>\n",
       "      <th>person_age</th>\n",
       "      <th>person_income</th>\n",
       "      <th>person_home_ownership</th>\n",
       "      <th>person_emp_length</th>\n",
       "      <th>loan_intent</th>\n",
       "      <th>loan_grade</th>\n",
       "      <th>loan_amnt</th>\n",
       "      <th>loan_int_rate</th>\n",
       "      <th>loan_status</th>\n",
       "      <th>loan_percent_income</th>\n",
       "      <th>cb_person_default_on_file</th>\n",
       "      <th>cb_person_cred_hist_length</th>\n",
       "    </tr>\n",
       "  </thead>\n",
       "  <tbody>\n",
       "    <tr>\n",
       "      <th>0</th>\n",
       "      <td>22</td>\n",
       "      <td>59000</td>\n",
       "      <td>RENT</td>\n",
       "      <td>123.0</td>\n",
       "      <td>PERSONAL</td>\n",
       "      <td>D</td>\n",
       "      <td>35000</td>\n",
       "      <td>16.02</td>\n",
       "      <td>1</td>\n",
       "      <td>0.59</td>\n",
       "      <td>Y</td>\n",
       "      <td>3</td>\n",
       "    </tr>\n",
       "    <tr>\n",
       "      <th>1</th>\n",
       "      <td>21</td>\n",
       "      <td>9600</td>\n",
       "      <td>OWN</td>\n",
       "      <td>5.0</td>\n",
       "      <td>EDUCATION</td>\n",
       "      <td>B</td>\n",
       "      <td>1000</td>\n",
       "      <td>11.14</td>\n",
       "      <td>0</td>\n",
       "      <td>0.10</td>\n",
       "      <td>N</td>\n",
       "      <td>2</td>\n",
       "    </tr>\n",
       "    <tr>\n",
       "      <th>2</th>\n",
       "      <td>25</td>\n",
       "      <td>9600</td>\n",
       "      <td>MORTGAGE</td>\n",
       "      <td>1.0</td>\n",
       "      <td>MEDICAL</td>\n",
       "      <td>C</td>\n",
       "      <td>5500</td>\n",
       "      <td>12.87</td>\n",
       "      <td>1</td>\n",
       "      <td>0.57</td>\n",
       "      <td>N</td>\n",
       "      <td>3</td>\n",
       "    </tr>\n",
       "    <tr>\n",
       "      <th>3</th>\n",
       "      <td>23</td>\n",
       "      <td>65500</td>\n",
       "      <td>RENT</td>\n",
       "      <td>4.0</td>\n",
       "      <td>MEDICAL</td>\n",
       "      <td>C</td>\n",
       "      <td>35000</td>\n",
       "      <td>15.23</td>\n",
       "      <td>1</td>\n",
       "      <td>0.53</td>\n",
       "      <td>N</td>\n",
       "      <td>2</td>\n",
       "    </tr>\n",
       "    <tr>\n",
       "      <th>4</th>\n",
       "      <td>24</td>\n",
       "      <td>54400</td>\n",
       "      <td>RENT</td>\n",
       "      <td>8.0</td>\n",
       "      <td>MEDICAL</td>\n",
       "      <td>C</td>\n",
       "      <td>35000</td>\n",
       "      <td>14.27</td>\n",
       "      <td>1</td>\n",
       "      <td>0.55</td>\n",
       "      <td>Y</td>\n",
       "      <td>4</td>\n",
       "    </tr>\n",
       "  </tbody>\n",
       "</table>\n",
       "</div>"
      ],
      "text/plain": [
       "   person_age  person_income person_home_ownership  person_emp_length  \\\n",
       "0          22          59000                  RENT              123.0   \n",
       "1          21           9600                   OWN                5.0   \n",
       "2          25           9600              MORTGAGE                1.0   \n",
       "3          23          65500                  RENT                4.0   \n",
       "4          24          54400                  RENT                8.0   \n",
       "\n",
       "  loan_intent loan_grade  loan_amnt  loan_int_rate  loan_status  \\\n",
       "0    PERSONAL          D      35000          16.02            1   \n",
       "1   EDUCATION          B       1000          11.14            0   \n",
       "2     MEDICAL          C       5500          12.87            1   \n",
       "3     MEDICAL          C      35000          15.23            1   \n",
       "4     MEDICAL          C      35000          14.27            1   \n",
       "\n",
       "   loan_percent_income cb_person_default_on_file  cb_person_cred_hist_length  \n",
       "0                 0.59                         Y                           3  \n",
       "1                 0.10                         N                           2  \n",
       "2                 0.57                         N                           3  \n",
       "3                 0.53                         N                           2  \n",
       "4                 0.55                         Y                           4  "
      ]
     },
     "execution_count": 4,
     "metadata": {},
     "output_type": "execute_result"
    }
   ],
   "source": [
    "df.head()"
   ]
  },
  {
   "cell_type": "code",
   "execution_count": 5,
   "metadata": {
    "execution": {
     "iopub.execute_input": "2025-09-05T04:53:53.980549Z",
     "iopub.status.busy": "2025-09-05T04:53:53.980279Z",
     "iopub.status.idle": "2025-09-05T04:53:53.996952Z",
     "shell.execute_reply": "2025-09-05T04:53:53.996191Z",
     "shell.execute_reply.started": "2025-09-05T04:53:53.980526Z"
    },
    "trusted": true
   },
   "outputs": [
    {
     "data": {
      "text/plain": [
       "person_age                       0\n",
       "person_income                    0\n",
       "person_home_ownership            0\n",
       "person_emp_length              895\n",
       "loan_intent                      0\n",
       "loan_grade                       0\n",
       "loan_amnt                        0\n",
       "loan_int_rate                 3116\n",
       "loan_status                      0\n",
       "loan_percent_income              0\n",
       "cb_person_default_on_file        0\n",
       "cb_person_cred_hist_length       0\n",
       "dtype: int64"
      ]
     },
     "execution_count": 5,
     "metadata": {},
     "output_type": "execute_result"
    }
   ],
   "source": [
    "df.isna().sum()"
   ]
  },
  {
   "cell_type": "code",
   "execution_count": 6,
   "metadata": {
    "execution": {
     "iopub.execute_input": "2025-09-05T04:53:53.999010Z",
     "iopub.status.busy": "2025-09-05T04:53:53.998739Z",
     "iopub.status.idle": "2025-09-05T04:53:54.072847Z",
     "shell.execute_reply": "2025-09-05T04:53:54.071733Z",
     "shell.execute_reply.started": "2025-09-05T04:53:53.998969Z"
    },
    "trusted": true
   },
   "outputs": [
    {
     "data": {
      "text/html": [
       "<div>\n",
       "<style scoped>\n",
       "    .dataframe tbody tr th:only-of-type {\n",
       "        vertical-align: middle;\n",
       "    }\n",
       "\n",
       "    .dataframe tbody tr th {\n",
       "        vertical-align: top;\n",
       "    }\n",
       "\n",
       "    .dataframe thead th {\n",
       "        text-align: right;\n",
       "    }\n",
       "</style>\n",
       "<table border=\"1\" class=\"dataframe\">\n",
       "  <thead>\n",
       "    <tr style=\"text-align: right;\">\n",
       "      <th></th>\n",
       "      <th>person_age</th>\n",
       "      <th>person_income</th>\n",
       "      <th>person_emp_length</th>\n",
       "      <th>loan_amnt</th>\n",
       "      <th>loan_int_rate</th>\n",
       "      <th>loan_status</th>\n",
       "      <th>loan_percent_income</th>\n",
       "      <th>cb_person_cred_hist_length</th>\n",
       "    </tr>\n",
       "  </thead>\n",
       "  <tbody>\n",
       "    <tr>\n",
       "      <th>count</th>\n",
       "      <td>32581.000000</td>\n",
       "      <td>3.258100e+04</td>\n",
       "      <td>31686.000000</td>\n",
       "      <td>32581.000000</td>\n",
       "      <td>29465.000000</td>\n",
       "      <td>32581.000000</td>\n",
       "      <td>32581.000000</td>\n",
       "      <td>32581.000000</td>\n",
       "    </tr>\n",
       "    <tr>\n",
       "      <th>mean</th>\n",
       "      <td>27.734600</td>\n",
       "      <td>6.607485e+04</td>\n",
       "      <td>4.789686</td>\n",
       "      <td>9589.371106</td>\n",
       "      <td>11.011695</td>\n",
       "      <td>0.218164</td>\n",
       "      <td>0.170203</td>\n",
       "      <td>5.804211</td>\n",
       "    </tr>\n",
       "    <tr>\n",
       "      <th>std</th>\n",
       "      <td>6.348078</td>\n",
       "      <td>6.198312e+04</td>\n",
       "      <td>4.142630</td>\n",
       "      <td>6322.086646</td>\n",
       "      <td>3.240459</td>\n",
       "      <td>0.413006</td>\n",
       "      <td>0.106782</td>\n",
       "      <td>4.055001</td>\n",
       "    </tr>\n",
       "    <tr>\n",
       "      <th>min</th>\n",
       "      <td>20.000000</td>\n",
       "      <td>4.000000e+03</td>\n",
       "      <td>0.000000</td>\n",
       "      <td>500.000000</td>\n",
       "      <td>5.420000</td>\n",
       "      <td>0.000000</td>\n",
       "      <td>0.000000</td>\n",
       "      <td>2.000000</td>\n",
       "    </tr>\n",
       "    <tr>\n",
       "      <th>25%</th>\n",
       "      <td>23.000000</td>\n",
       "      <td>3.850000e+04</td>\n",
       "      <td>2.000000</td>\n",
       "      <td>5000.000000</td>\n",
       "      <td>7.900000</td>\n",
       "      <td>0.000000</td>\n",
       "      <td>0.090000</td>\n",
       "      <td>3.000000</td>\n",
       "    </tr>\n",
       "    <tr>\n",
       "      <th>50%</th>\n",
       "      <td>26.000000</td>\n",
       "      <td>5.500000e+04</td>\n",
       "      <td>4.000000</td>\n",
       "      <td>8000.000000</td>\n",
       "      <td>10.990000</td>\n",
       "      <td>0.000000</td>\n",
       "      <td>0.150000</td>\n",
       "      <td>4.000000</td>\n",
       "    </tr>\n",
       "    <tr>\n",
       "      <th>75%</th>\n",
       "      <td>30.000000</td>\n",
       "      <td>7.920000e+04</td>\n",
       "      <td>7.000000</td>\n",
       "      <td>12200.000000</td>\n",
       "      <td>13.470000</td>\n",
       "      <td>0.000000</td>\n",
       "      <td>0.230000</td>\n",
       "      <td>8.000000</td>\n",
       "    </tr>\n",
       "    <tr>\n",
       "      <th>max</th>\n",
       "      <td>144.000000</td>\n",
       "      <td>6.000000e+06</td>\n",
       "      <td>123.000000</td>\n",
       "      <td>35000.000000</td>\n",
       "      <td>23.220000</td>\n",
       "      <td>1.000000</td>\n",
       "      <td>0.830000</td>\n",
       "      <td>30.000000</td>\n",
       "    </tr>\n",
       "  </tbody>\n",
       "</table>\n",
       "</div>"
      ],
      "text/plain": [
       "         person_age  person_income  person_emp_length     loan_amnt  \\\n",
       "count  32581.000000   3.258100e+04       31686.000000  32581.000000   \n",
       "mean      27.734600   6.607485e+04           4.789686   9589.371106   \n",
       "std        6.348078   6.198312e+04           4.142630   6322.086646   \n",
       "min       20.000000   4.000000e+03           0.000000    500.000000   \n",
       "25%       23.000000   3.850000e+04           2.000000   5000.000000   \n",
       "50%       26.000000   5.500000e+04           4.000000   8000.000000   \n",
       "75%       30.000000   7.920000e+04           7.000000  12200.000000   \n",
       "max      144.000000   6.000000e+06         123.000000  35000.000000   \n",
       "\n",
       "       loan_int_rate   loan_status  loan_percent_income  \\\n",
       "count   29465.000000  32581.000000         32581.000000   \n",
       "mean       11.011695      0.218164             0.170203   \n",
       "std         3.240459      0.413006             0.106782   \n",
       "min         5.420000      0.000000             0.000000   \n",
       "25%         7.900000      0.000000             0.090000   \n",
       "50%        10.990000      0.000000             0.150000   \n",
       "75%        13.470000      0.000000             0.230000   \n",
       "max        23.220000      1.000000             0.830000   \n",
       "\n",
       "       cb_person_cred_hist_length  \n",
       "count                32581.000000  \n",
       "mean                     5.804211  \n",
       "std                      4.055001  \n",
       "min                      2.000000  \n",
       "25%                      3.000000  \n",
       "50%                      4.000000  \n",
       "75%                      8.000000  \n",
       "max                     30.000000  "
      ]
     },
     "execution_count": 6,
     "metadata": {},
     "output_type": "execute_result"
    }
   ],
   "source": [
    "df.describe()"
   ]
  },
  {
   "cell_type": "code",
   "execution_count": 7,
   "metadata": {
    "execution": {
     "iopub.execute_input": "2025-09-05T04:53:54.073671Z",
     "iopub.status.busy": "2025-09-05T04:53:54.073444Z",
     "iopub.status.idle": "2025-09-05T04:53:54.122847Z",
     "shell.execute_reply": "2025-09-05T04:53:54.122053Z",
     "shell.execute_reply.started": "2025-09-05T04:53:54.073651Z"
    },
    "trusted": true
   },
   "outputs": [
    {
     "name": "stdout",
     "output_type": "stream",
     "text": [
      "<class 'pandas.core.frame.DataFrame'>\n",
      "RangeIndex: 32581 entries, 0 to 32580\n",
      "Data columns (total 12 columns):\n",
      " #   Column                      Non-Null Count  Dtype  \n",
      "---  ------                      --------------  -----  \n",
      " 0   person_age                  32581 non-null  int64  \n",
      " 1   person_income               32581 non-null  int64  \n",
      " 2   person_home_ownership       32581 non-null  object \n",
      " 3   person_emp_length           31686 non-null  float64\n",
      " 4   loan_intent                 32581 non-null  object \n",
      " 5   loan_grade                  32581 non-null  object \n",
      " 6   loan_amnt                   32581 non-null  int64  \n",
      " 7   loan_int_rate               29465 non-null  float64\n",
      " 8   loan_status                 32581 non-null  int64  \n",
      " 9   loan_percent_income         32581 non-null  float64\n",
      " 10  cb_person_default_on_file   32581 non-null  object \n",
      " 11  cb_person_cred_hist_length  32581 non-null  int64  \n",
      "dtypes: float64(3), int64(5), object(4)\n",
      "memory usage: 3.0+ MB\n"
     ]
    }
   ],
   "source": [
    "df.info()"
   ]
  },
  {
   "cell_type": "code",
   "execution_count": 8,
   "metadata": {
    "execution": {
     "iopub.execute_input": "2025-09-05T04:53:54.124158Z",
     "iopub.status.busy": "2025-09-05T04:53:54.123694Z",
     "iopub.status.idle": "2025-09-05T04:53:54.137150Z",
     "shell.execute_reply": "2025-09-05T04:53:54.136430Z",
     "shell.execute_reply.started": "2025-09-05T04:53:54.124127Z"
    },
    "trusted": true
   },
   "outputs": [
    {
     "name": "stdout",
     "output_type": "stream",
     "text": [
      "Employment Length missing vs non-missing\n",
      "person_emp_length\n",
      "False    0.215426\n",
      "True     0.315084\n",
      "Name: loan_status, dtype: float64\n",
      "\n",
      "Interest Rate missing vs non-missing\n",
      "loan_int_rate\n",
      "False    0.219379\n",
      "True     0.206675\n",
      "Name: loan_status, dtype: float64\n"
     ]
    }
   ],
   "source": [
    "# Check default rate for missing vs non-missing in emp_length\n",
    "print(\"Employment Length missing vs non-missing\")\n",
    "print(df.groupby(df['person_emp_length'].isna())['loan_status'].mean())\n",
    "\n",
    "# Check default rate for missing vs non-missing in loan_int_rate\n",
    "print(\"\\nInterest Rate missing vs non-missing\")\n",
    "print(df.groupby(df['loan_int_rate'].isna())['loan_status'].mean())\n"
   ]
  },
  {
   "cell_type": "markdown",
   "metadata": {},
   "source": [
    "## 3. Data Cleaning\n",
    "- **Missing values:**  \n",
    "  - `person_emp_length`: missing borrowers had higher default → create `emp_length_missing` flag + impute median.  \n",
    "  - `loan_int_rate`: missing similar to others → impute median.  \n",
    "- Always check default rate in missing groups — missingness can itself be informative.  \n",
    "\n",
    "---"
   ]
  },
  {
   "cell_type": "code",
   "execution_count": 9,
   "metadata": {
    "execution": {
     "iopub.execute_input": "2025-09-05T04:53:54.141257Z",
     "iopub.status.busy": "2025-09-05T04:53:54.140778Z",
     "iopub.status.idle": "2025-09-05T04:53:54.148667Z",
     "shell.execute_reply": "2025-09-05T04:53:54.147876Z",
     "shell.execute_reply.started": "2025-09-05T04:53:54.141236Z"
    },
    "trusted": true
   },
   "outputs": [
    {
     "name": "stdout",
     "output_type": "stream",
     "text": [
      "{'person_emp_length': 4.0, 'loan_int_rate': 10.99}\n"
     ]
    }
   ],
   "source": [
    "medians = {}\n",
    "medians['person_emp_length'] = df['person_emp_length'].median()\n",
    "medians['loan_int_rate'] = df['loan_int_rate'].median()\n",
    "print(medians)"
   ]
  },
  {
   "cell_type": "code",
   "execution_count": 10,
   "metadata": {
    "execution": {
     "iopub.execute_input": "2025-09-05T04:53:54.149887Z",
     "iopub.status.busy": "2025-09-05T04:53:54.149595Z",
     "iopub.status.idle": "2025-09-05T04:53:54.163657Z",
     "shell.execute_reply": "2025-09-05T04:53:54.162881Z",
     "shell.execute_reply.started": "2025-09-05T04:53:54.149850Z"
    },
    "trusted": true
   },
   "outputs": [
    {
     "name": "stderr",
     "output_type": "stream",
     "text": [
      "/tmp/ipykernel_36/2857961393.py:3: FutureWarning: A value is trying to be set on a copy of a DataFrame or Series through chained assignment using an inplace method.\n",
      "The behavior will change in pandas 3.0. This inplace method will never work because the intermediate object on which we are setting values always behaves as a copy.\n",
      "\n",
      "For example, when doing 'df[col].method(value, inplace=True)', try using 'df.method({col: value}, inplace=True)' or df[col] = df[col].method(value) instead, to perform the operation inplace on the original object.\n",
      "\n",
      "\n",
      "  df['person_emp_length'].fillna(df['person_emp_length'].median(), inplace=True)\n",
      "/tmp/ipykernel_36/2857961393.py:6: FutureWarning: A value is trying to be set on a copy of a DataFrame or Series through chained assignment using an inplace method.\n",
      "The behavior will change in pandas 3.0. This inplace method will never work because the intermediate object on which we are setting values always behaves as a copy.\n",
      "\n",
      "For example, when doing 'df[col].method(value, inplace=True)', try using 'df.method({col: value}, inplace=True)' or df[col] = df[col].method(value) instead, to perform the operation inplace on the original object.\n",
      "\n",
      "\n",
      "  df['loan_int_rate'].fillna(df['loan_int_rate'].median(), inplace=True)\n"
     ]
    }
   ],
   "source": [
    "# 1. For Employment Length\n",
    "df['emp_length_missing'] = df['person_emp_length'].isna().astype(int)\n",
    "df['person_emp_length'].fillna(df['person_emp_length'].median(), inplace=True)\n",
    "\n",
    "# 2. For Loan Interest Rate\n",
    "df['loan_int_rate'].fillna(df['loan_int_rate'].median(), inplace=True)"
   ]
  },
  {
   "cell_type": "code",
   "execution_count": null,
   "metadata": {
    "trusted": true
   },
   "outputs": [],
   "source": []
  },
  {
   "cell_type": "code",
   "execution_count": 11,
   "metadata": {
    "execution": {
     "iopub.execute_input": "2025-09-05T04:53:54.164880Z",
     "iopub.status.busy": "2025-09-05T04:53:54.164594Z",
     "iopub.status.idle": "2025-09-05T04:53:54.177303Z",
     "shell.execute_reply": "2025-09-05T04:53:54.176601Z",
     "shell.execute_reply.started": "2025-09-05T04:53:54.164843Z"
    },
    "trusted": true
   },
   "outputs": [
    {
     "data": {
      "text/html": [
       "<div>\n",
       "<style scoped>\n",
       "    .dataframe tbody tr th:only-of-type {\n",
       "        vertical-align: middle;\n",
       "    }\n",
       "\n",
       "    .dataframe tbody tr th {\n",
       "        vertical-align: top;\n",
       "    }\n",
       "\n",
       "    .dataframe thead th {\n",
       "        text-align: right;\n",
       "    }\n",
       "</style>\n",
       "<table border=\"1\" class=\"dataframe\">\n",
       "  <thead>\n",
       "    <tr style=\"text-align: right;\">\n",
       "      <th></th>\n",
       "      <th>person_age</th>\n",
       "      <th>person_income</th>\n",
       "      <th>person_home_ownership</th>\n",
       "      <th>person_emp_length</th>\n",
       "      <th>loan_intent</th>\n",
       "      <th>loan_grade</th>\n",
       "      <th>loan_amnt</th>\n",
       "      <th>loan_int_rate</th>\n",
       "      <th>loan_status</th>\n",
       "      <th>loan_percent_income</th>\n",
       "      <th>cb_person_default_on_file</th>\n",
       "      <th>cb_person_cred_hist_length</th>\n",
       "      <th>emp_length_missing</th>\n",
       "    </tr>\n",
       "  </thead>\n",
       "  <tbody>\n",
       "    <tr>\n",
       "      <th>0</th>\n",
       "      <td>22</td>\n",
       "      <td>59000</td>\n",
       "      <td>RENT</td>\n",
       "      <td>123.0</td>\n",
       "      <td>PERSONAL</td>\n",
       "      <td>D</td>\n",
       "      <td>35000</td>\n",
       "      <td>16.02</td>\n",
       "      <td>1</td>\n",
       "      <td>0.59</td>\n",
       "      <td>Y</td>\n",
       "      <td>3</td>\n",
       "      <td>0</td>\n",
       "    </tr>\n",
       "    <tr>\n",
       "      <th>1</th>\n",
       "      <td>21</td>\n",
       "      <td>9600</td>\n",
       "      <td>OWN</td>\n",
       "      <td>5.0</td>\n",
       "      <td>EDUCATION</td>\n",
       "      <td>B</td>\n",
       "      <td>1000</td>\n",
       "      <td>11.14</td>\n",
       "      <td>0</td>\n",
       "      <td>0.10</td>\n",
       "      <td>N</td>\n",
       "      <td>2</td>\n",
       "      <td>0</td>\n",
       "    </tr>\n",
       "    <tr>\n",
       "      <th>2</th>\n",
       "      <td>25</td>\n",
       "      <td>9600</td>\n",
       "      <td>MORTGAGE</td>\n",
       "      <td>1.0</td>\n",
       "      <td>MEDICAL</td>\n",
       "      <td>C</td>\n",
       "      <td>5500</td>\n",
       "      <td>12.87</td>\n",
       "      <td>1</td>\n",
       "      <td>0.57</td>\n",
       "      <td>N</td>\n",
       "      <td>3</td>\n",
       "      <td>0</td>\n",
       "    </tr>\n",
       "    <tr>\n",
       "      <th>3</th>\n",
       "      <td>23</td>\n",
       "      <td>65500</td>\n",
       "      <td>RENT</td>\n",
       "      <td>4.0</td>\n",
       "      <td>MEDICAL</td>\n",
       "      <td>C</td>\n",
       "      <td>35000</td>\n",
       "      <td>15.23</td>\n",
       "      <td>1</td>\n",
       "      <td>0.53</td>\n",
       "      <td>N</td>\n",
       "      <td>2</td>\n",
       "      <td>0</td>\n",
       "    </tr>\n",
       "    <tr>\n",
       "      <th>4</th>\n",
       "      <td>24</td>\n",
       "      <td>54400</td>\n",
       "      <td>RENT</td>\n",
       "      <td>8.0</td>\n",
       "      <td>MEDICAL</td>\n",
       "      <td>C</td>\n",
       "      <td>35000</td>\n",
       "      <td>14.27</td>\n",
       "      <td>1</td>\n",
       "      <td>0.55</td>\n",
       "      <td>Y</td>\n",
       "      <td>4</td>\n",
       "      <td>0</td>\n",
       "    </tr>\n",
       "  </tbody>\n",
       "</table>\n",
       "</div>"
      ],
      "text/plain": [
       "   person_age  person_income person_home_ownership  person_emp_length  \\\n",
       "0          22          59000                  RENT              123.0   \n",
       "1          21           9600                   OWN                5.0   \n",
       "2          25           9600              MORTGAGE                1.0   \n",
       "3          23          65500                  RENT                4.0   \n",
       "4          24          54400                  RENT                8.0   \n",
       "\n",
       "  loan_intent loan_grade  loan_amnt  loan_int_rate  loan_status  \\\n",
       "0    PERSONAL          D      35000          16.02            1   \n",
       "1   EDUCATION          B       1000          11.14            0   \n",
       "2     MEDICAL          C       5500          12.87            1   \n",
       "3     MEDICAL          C      35000          15.23            1   \n",
       "4     MEDICAL          C      35000          14.27            1   \n",
       "\n",
       "   loan_percent_income cb_person_default_on_file  cb_person_cred_hist_length  \\\n",
       "0                 0.59                         Y                           3   \n",
       "1                 0.10                         N                           2   \n",
       "2                 0.57                         N                           3   \n",
       "3                 0.53                         N                           2   \n",
       "4                 0.55                         Y                           4   \n",
       "\n",
       "   emp_length_missing  \n",
       "0                   0  \n",
       "1                   0  \n",
       "2                   0  \n",
       "3                   0  \n",
       "4                   0  "
      ]
     },
     "execution_count": 11,
     "metadata": {},
     "output_type": "execute_result"
    }
   ],
   "source": [
    "df.head()"
   ]
  },
  {
   "cell_type": "code",
   "execution_count": 12,
   "metadata": {
    "execution": {
     "iopub.execute_input": "2025-09-05T04:53:54.178382Z",
     "iopub.status.busy": "2025-09-05T04:53:54.178117Z",
     "iopub.status.idle": "2025-09-05T04:53:54.198939Z",
     "shell.execute_reply": "2025-09-05T04:53:54.198234Z",
     "shell.execute_reply.started": "2025-09-05T04:53:54.178356Z"
    },
    "trusted": true
   },
   "outputs": [
    {
     "data": {
      "text/plain": [
       "person_age                    0\n",
       "person_income                 0\n",
       "person_home_ownership         0\n",
       "person_emp_length             0\n",
       "loan_intent                   0\n",
       "loan_grade                    0\n",
       "loan_amnt                     0\n",
       "loan_int_rate                 0\n",
       "loan_status                   0\n",
       "loan_percent_income           0\n",
       "cb_person_default_on_file     0\n",
       "cb_person_cred_hist_length    0\n",
       "emp_length_missing            0\n",
       "dtype: int64"
      ]
     },
     "execution_count": 12,
     "metadata": {},
     "output_type": "execute_result"
    }
   ],
   "source": [
    "df.isna().sum()"
   ]
  },
  {
   "cell_type": "code",
   "execution_count": 13,
   "metadata": {
    "execution": {
     "iopub.execute_input": "2025-09-05T04:53:54.200313Z",
     "iopub.status.busy": "2025-09-05T04:53:54.200063Z",
     "iopub.status.idle": "2025-09-05T04:53:54.207774Z",
     "shell.execute_reply": "2025-09-05T04:53:54.206968Z",
     "shell.execute_reply.started": "2025-09-05T04:53:54.200287Z"
    },
    "trusted": true
   },
   "outputs": [
    {
     "data": {
      "text/plain": [
       "loan_status\n",
       "0    0.781836\n",
       "1    0.218164\n",
       "Name: proportion, dtype: float64"
      ]
     },
     "execution_count": 13,
     "metadata": {},
     "output_type": "execute_result"
    }
   ],
   "source": [
    "df['loan_status'].value_counts(normalize=True)\n"
   ]
  },
  {
   "cell_type": "markdown",
   "metadata": {},
   "source": [
    "## 4. Class Balance\n",
    "- 78% non-default vs 22% default → imbalanced.  \n",
    "- **Accuracy is misleading** → use **AUC, precision, recall, F1-score**.  \n",
    "- Used **stratified split** to preserve the default ratio in train/val/test sets.  \n",
    "\n",
    "---"
   ]
  },
  {
   "cell_type": "code",
   "execution_count": 14,
   "metadata": {
    "execution": {
     "iopub.execute_input": "2025-09-05T04:53:54.208834Z",
     "iopub.status.busy": "2025-09-05T04:53:54.208586Z",
     "iopub.status.idle": "2025-09-05T04:53:54.227652Z",
     "shell.execute_reply": "2025-09-05T04:53:54.226860Z",
     "shell.execute_reply.started": "2025-09-05T04:53:54.208782Z"
    },
    "trusted": true
   },
   "outputs": [
    {
     "data": {
      "text/plain": [
       "person_home_ownership\n",
       "RENT        0.315700\n",
       "OTHER       0.308411\n",
       "MORTGAGE    0.125707\n",
       "OWN         0.074690\n",
       "Name: loan_status, dtype: float64"
      ]
     },
     "execution_count": 14,
     "metadata": {},
     "output_type": "execute_result"
    }
   ],
   "source": [
    "df.groupby('person_home_ownership')['loan_status'].mean().sort_values(ascending=False)\n"
   ]
  },
  {
   "cell_type": "code",
   "execution_count": 15,
   "metadata": {
    "execution": {
     "iopub.execute_input": "2025-09-05T04:53:54.228898Z",
     "iopub.status.busy": "2025-09-05T04:53:54.228579Z",
     "iopub.status.idle": "2025-09-05T04:53:54.244967Z",
     "shell.execute_reply": "2025-09-05T04:53:54.244292Z",
     "shell.execute_reply.started": "2025-09-05T04:53:54.228871Z"
    },
    "trusted": true
   },
   "outputs": [
    {
     "data": {
      "text/plain": [
       "loan_status\n",
       "0    60000.0\n",
       "1    41498.0\n",
       "Name: person_income, dtype: float64"
      ]
     },
     "execution_count": 15,
     "metadata": {},
     "output_type": "execute_result"
    }
   ],
   "source": [
    "df.groupby('loan_status')['person_income'].median()\n"
   ]
  },
  {
   "cell_type": "markdown",
   "metadata": {},
   "source": [
    "## 5. EDA Insights\n",
    "- **Home ownership:**  \n",
    "  - Renters ≈ 31% default, Owners ≈ 7% → stability reduces risk.  \n",
    "- **Income:**  \n",
    "  - Defaulters median ≈ \\$41k vs non-defaulters ≈ \\$60k → lower income = higher risk.  \n",
    "- **Other signals:**  \n",
    "  - Higher loan_percent_income and lower loan grades strongly correlate with default.  \n",
    "\n",
    "---"
   ]
  },
  {
   "cell_type": "code",
   "execution_count": 16,
   "metadata": {
    "execution": {
     "iopub.execute_input": "2025-09-05T04:53:54.246457Z",
     "iopub.status.busy": "2025-09-05T04:53:54.246075Z",
     "iopub.status.idle": "2025-09-05T04:53:55.658757Z",
     "shell.execute_reply": "2025-09-05T04:53:55.657768Z",
     "shell.execute_reply.started": "2025-09-05T04:53:54.246432Z"
    },
    "trusted": true
   },
   "outputs": [
    {
     "data": {
      "text/plain": [
       "<Axes: xlabel='loan_status', ylabel='person_income'>"
      ]
     },
     "execution_count": 16,
     "metadata": {},
     "output_type": "execute_result"
    },
    {
     "data": {
      "image/png": "[encoded data removed]",
      "text/plain": [
       "<Figure size 640x480 with 1 Axes>"
      ]
     },
     "metadata": {},
     "output_type": "display_data"
    }
   ],
   "source": [
    "import seaborn as sns\n",
    "sns.boxplot(x='loan_status', y='person_income', data=df)"
   ]
  },
  {
   "cell_type": "markdown",
   "metadata": {},
   "source": [
    "## 6. Feature Engineering\n",
    "- **Encoding:**  \n",
    "  - One-hot → `person_home_ownership`, `loan_intent`.  \n",
    "  - Ordinal → `loan_grade` (A–G).  \n",
    "  - Binary → `cb_person_default_on_file` (Y/N).  \n",
    "- **Scaling:** Standardize numeric features (age, income, loan amounts) for Logistic Regression.  \n",
    "- (Tree-based models don’t require scaling.)  "
   ]
  },
  {
   "cell_type": "code",
   "execution_count": 17,
   "metadata": {
    "execution": {
     "iopub.execute_input": "2025-09-05T04:53:55.660501Z",
     "iopub.status.busy": "2025-09-05T04:53:55.660013Z",
     "iopub.status.idle": "2025-09-05T04:53:56.310094Z",
     "shell.execute_reply": "2025-09-05T04:53:56.309215Z",
     "shell.execute_reply.started": "2025-09-05T04:53:55.660471Z"
    },
    "trusted": true
   },
   "outputs": [
    {
     "name": "stdout",
     "output_type": "stream",
     "text": [
      "Encoded shape: (32581, 20)\n"
     ]
    },
    {
     "name": "stderr",
     "output_type": "stream",
     "text": [
      "/usr/local/lib/python3.11/dist-packages/sklearn/preprocessing/_encoders.py:868: FutureWarning: `sparse` was renamed to `sparse_output` in version 1.2 and will be removed in 1.4. `sparse_output` is ignored unless you leave `sparse` to its default value.\n",
      "  warnings.warn(\n"
     ]
    },
    {
     "data": {
      "text/html": [
       "<div>\n",
       "<style scoped>\n",
       "    .dataframe tbody tr th:only-of-type {\n",
       "        vertical-align: middle;\n",
       "    }\n",
       "\n",
       "    .dataframe tbody tr th {\n",
       "        vertical-align: top;\n",
       "    }\n",
       "\n",
       "    .dataframe thead th {\n",
       "        text-align: right;\n",
       "    }\n",
       "</style>\n",
       "<table border=\"1\" class=\"dataframe\">\n",
       "  <thead>\n",
       "    <tr style=\"text-align: right;\">\n",
       "      <th></th>\n",
       "      <th>person_age</th>\n",
       "      <th>person_income</th>\n",
       "      <th>person_emp_length</th>\n",
       "      <th>loan_amnt</th>\n",
       "      <th>loan_int_rate</th>\n",
       "      <th>loan_percent_income</th>\n",
       "      <th>cb_person_cred_hist_length</th>\n",
       "      <th>emp_length_missing</th>\n",
       "      <th>cb_person_default_on_file</th>\n",
       "      <th>person_home_ownership_MORTGAGE</th>\n",
       "      <th>person_home_ownership_OTHER</th>\n",
       "      <th>person_home_ownership_OWN</th>\n",
       "      <th>person_home_ownership_RENT</th>\n",
       "      <th>loan_intent_DEBTCONSOLIDATION</th>\n",
       "      <th>loan_intent_EDUCATION</th>\n",
       "      <th>loan_intent_HOMEIMPROVEMENT</th>\n",
       "      <th>loan_intent_MEDICAL</th>\n",
       "      <th>loan_intent_PERSONAL</th>\n",
       "      <th>loan_intent_VENTURE</th>\n",
       "      <th>loan_grade_ord</th>\n",
       "    </tr>\n",
       "  </thead>\n",
       "  <tbody>\n",
       "    <tr>\n",
       "      <th>0</th>\n",
       "      <td>22.0</td>\n",
       "      <td>59000.0</td>\n",
       "      <td>123.0</td>\n",
       "      <td>35000.0</td>\n",
       "      <td>16.02</td>\n",
       "      <td>0.59</td>\n",
       "      <td>3.0</td>\n",
       "      <td>0.0</td>\n",
       "      <td>1.0</td>\n",
       "      <td>0.0</td>\n",
       "      <td>0.0</td>\n",
       "      <td>0.0</td>\n",
       "      <td>1.0</td>\n",
       "      <td>0.0</td>\n",
       "      <td>0.0</td>\n",
       "      <td>0.0</td>\n",
       "      <td>0.0</td>\n",
       "      <td>1.0</td>\n",
       "      <td>0.0</td>\n",
       "      <td>3.0</td>\n",
       "    </tr>\n",
       "    <tr>\n",
       "      <th>1</th>\n",
       "      <td>21.0</td>\n",
       "      <td>9600.0</td>\n",
       "      <td>5.0</td>\n",
       "      <td>1000.0</td>\n",
       "      <td>11.14</td>\n",
       "      <td>0.10</td>\n",
       "      <td>2.0</td>\n",
       "      <td>0.0</td>\n",
       "      <td>0.0</td>\n",
       "      <td>0.0</td>\n",
       "      <td>0.0</td>\n",
       "      <td>1.0</td>\n",
       "      <td>0.0</td>\n",
       "      <td>0.0</td>\n",
       "      <td>1.0</td>\n",
       "      <td>0.0</td>\n",
       "      <td>0.0</td>\n",
       "      <td>0.0</td>\n",
       "      <td>0.0</td>\n",
       "      <td>1.0</td>\n",
       "    </tr>\n",
       "    <tr>\n",
       "      <th>2</th>\n",
       "      <td>25.0</td>\n",
       "      <td>9600.0</td>\n",
       "      <td>1.0</td>\n",
       "      <td>5500.0</td>\n",
       "      <td>12.87</td>\n",
       "      <td>0.57</td>\n",
       "      <td>3.0</td>\n",
       "      <td>0.0</td>\n",
       "      <td>0.0</td>\n",
       "      <td>1.0</td>\n",
       "      <td>0.0</td>\n",
       "      <td>0.0</td>\n",
       "      <td>0.0</td>\n",
       "      <td>0.0</td>\n",
       "      <td>0.0</td>\n",
       "      <td>0.0</td>\n",
       "      <td>1.0</td>\n",
       "      <td>0.0</td>\n",
       "      <td>0.0</td>\n",
       "      <td>2.0</td>\n",
       "    </tr>\n",
       "    <tr>\n",
       "      <th>3</th>\n",
       "      <td>23.0</td>\n",
       "      <td>65500.0</td>\n",
       "      <td>4.0</td>\n",
       "      <td>35000.0</td>\n",
       "      <td>15.23</td>\n",
       "      <td>0.53</td>\n",
       "      <td>2.0</td>\n",
       "      <td>0.0</td>\n",
       "      <td>0.0</td>\n",
       "      <td>0.0</td>\n",
       "      <td>0.0</td>\n",
       "      <td>0.0</td>\n",
       "      <td>1.0</td>\n",
       "      <td>0.0</td>\n",
       "      <td>0.0</td>\n",
       "      <td>0.0</td>\n",
       "      <td>1.0</td>\n",
       "      <td>0.0</td>\n",
       "      <td>0.0</td>\n",
       "      <td>2.0</td>\n",
       "    </tr>\n",
       "    <tr>\n",
       "      <th>4</th>\n",
       "      <td>24.0</td>\n",
       "      <td>54400.0</td>\n",
       "      <td>8.0</td>\n",
       "      <td>35000.0</td>\n",
       "      <td>14.27</td>\n",
       "      <td>0.55</td>\n",
       "      <td>4.0</td>\n",
       "      <td>0.0</td>\n",
       "      <td>1.0</td>\n",
       "      <td>0.0</td>\n",
       "      <td>0.0</td>\n",
       "      <td>0.0</td>\n",
       "      <td>1.0</td>\n",
       "      <td>0.0</td>\n",
       "      <td>0.0</td>\n",
       "      <td>0.0</td>\n",
       "      <td>1.0</td>\n",
       "      <td>0.0</td>\n",
       "      <td>0.0</td>\n",
       "      <td>2.0</td>\n",
       "    </tr>\n",
       "  </tbody>\n",
       "</table>\n",
       "</div>"
      ],
      "text/plain": [
       "   person_age  person_income  person_emp_length  loan_amnt  loan_int_rate  \\\n",
       "0        22.0        59000.0              123.0    35000.0          16.02   \n",
       "1        21.0         9600.0                5.0     1000.0          11.14   \n",
       "2        25.0         9600.0                1.0     5500.0          12.87   \n",
       "3        23.0        65500.0                4.0    35000.0          15.23   \n",
       "4        24.0        54400.0                8.0    35000.0          14.27   \n",
       "\n",
       "   loan_percent_income  cb_person_cred_hist_length  emp_length_missing  \\\n",
       "0                 0.59                         3.0                 0.0   \n",
       "1                 0.10                         2.0                 0.0   \n",
       "2                 0.57                         3.0                 0.0   \n",
       "3                 0.53                         2.0                 0.0   \n",
       "4                 0.55                         4.0                 0.0   \n",
       "\n",
       "   cb_person_default_on_file  person_home_ownership_MORTGAGE  \\\n",
       "0                        1.0                             0.0   \n",
       "1                        0.0                             0.0   \n",
       "2                        0.0                             1.0   \n",
       "3                        0.0                             0.0   \n",
       "4                        1.0                             0.0   \n",
       "\n",
       "   person_home_ownership_OTHER  person_home_ownership_OWN  \\\n",
       "0                          0.0                        0.0   \n",
       "1                          0.0                        1.0   \n",
       "2                          0.0                        0.0   \n",
       "3                          0.0                        0.0   \n",
       "4                          0.0                        0.0   \n",
       "\n",
       "   person_home_ownership_RENT  loan_intent_DEBTCONSOLIDATION  \\\n",
       "0                         1.0                            0.0   \n",
       "1                         0.0                            0.0   \n",
       "2                         0.0                            0.0   \n",
       "3                         1.0                            0.0   \n",
       "4                         1.0                            0.0   \n",
       "\n",
       "   loan_intent_EDUCATION  loan_intent_HOMEIMPROVEMENT  loan_intent_MEDICAL  \\\n",
       "0                    0.0                          0.0                  0.0   \n",
       "1                    1.0                          0.0                  0.0   \n",
       "2                    0.0                          0.0                  1.0   \n",
       "3                    0.0                          0.0                  1.0   \n",
       "4                    0.0                          0.0                  1.0   \n",
       "\n",
       "   loan_intent_PERSONAL  loan_intent_VENTURE  loan_grade_ord  \n",
       "0                   1.0                  0.0             3.0  \n",
       "1                   0.0                  0.0             1.0  \n",
       "2                   0.0                  0.0             2.0  \n",
       "3                   0.0                  0.0             2.0  \n",
       "4                   0.0                  0.0             2.0  "
      ]
     },
     "execution_count": 17,
     "metadata": {},
     "output_type": "execute_result"
    }
   ],
   "source": [
    "import numpy as np\n",
    "import pandas as pd\n",
    "from sklearn.compose import ColumnTransformer\n",
    "from sklearn.preprocessing import OneHotEncoder, OrdinalEncoder\n",
    "from sklearn.impute import SimpleImputer\n",
    "\n",
    "# --- copy & prep ---\n",
    "X = df.copy()\n",
    "\n",
    "\n",
    "# 2) Binary map for Y/N\n",
    "X['cb_person_default_on_file'] = X['cb_person_default_on_file'].map({'Y':1, 'N':0}).astype(int)\n",
    "\n",
    "# 3) Separate target\n",
    "y = X['loan_status'].astype(int)\n",
    "X = X.drop(columns=['loan_status'])\n",
    "\n",
    "# 4) Define feature groups\n",
    "num_features = [\n",
    "    'person_age','person_income','person_emp_length','loan_amnt','loan_int_rate',\n",
    "    'loan_percent_income','cb_person_cred_hist_length','emp_length_missing','cb_person_default_on_file'\n",
    "]\n",
    "cat_onehot = ['person_home_ownership','loan_intent']\n",
    "ord_features = ['loan_grade']\n",
    "ord_categories = [['A','B','C','D','E','F','G']]  # natural order\n",
    "\n",
    "# 5) ColumnTransformer: impute numerics (safety), one-hot for nominals, ordinal for grade\n",
    "preprocess = ColumnTransformer(\n",
    "    transformers=[\n",
    "        ('num', SimpleImputer(strategy='median'), num_features),\n",
    "        ('onehot', OneHotEncoder(handle_unknown='ignore', sparse=False), cat_onehot),\n",
    "        ('ord', OrdinalEncoder(categories=ord_categories, handle_unknown='use_encoded_value', unknown_value=-1), ord_features),\n",
    "    ],\n",
    "    remainder='drop'\n",
    ")\n",
    "\n",
    "# 6) Fit on training data\n",
    "preprocess.fit(X)\n",
    "\n",
    "# 7) Transform for training (optional, to train your model)\n",
    "X_mat = preprocess.transform(X)\n",
    "\n",
    "oh_names = preprocess.named_transformers_['onehot'].get_feature_names_out(cat_onehot)\n",
    "feature_names = np.concatenate([num_features, oh_names, ['loan_grade_ord']])\n",
    "\n",
    "X_enc = pd.DataFrame(X_mat, columns=feature_names, index=X.index)\n",
    "\n",
    "print(\"Encoded shape:\", X_enc.shape)\n",
    "X_enc.head()\n"
   ]
  },
  {
   "cell_type": "code",
   "execution_count": 18,
   "metadata": {
    "execution": {
     "iopub.execute_input": "2025-09-05T04:53:56.311150Z",
     "iopub.status.busy": "2025-09-05T04:53:56.310875Z",
     "iopub.status.idle": "2025-09-05T04:53:56.317109Z",
     "shell.execute_reply": "2025-09-05T04:53:56.316277Z",
     "shell.execute_reply.started": "2025-09-05T04:53:56.311130Z"
    },
    "trusted": true
   },
   "outputs": [
    {
     "data": {
      "text/plain": [
       "(32581, 13)"
      ]
     },
     "execution_count": 18,
     "metadata": {},
     "output_type": "execute_result"
    }
   ],
   "source": [
    "df.shape"
   ]
  },
  {
   "cell_type": "code",
   "execution_count": 19,
   "metadata": {
    "execution": {
     "iopub.execute_input": "2025-09-05T04:53:56.318286Z",
     "iopub.status.busy": "2025-09-05T04:53:56.318016Z",
     "iopub.status.idle": "2025-09-05T04:53:56.333566Z",
     "shell.execute_reply": "2025-09-05T04:53:56.332763Z",
     "shell.execute_reply.started": "2025-09-05T04:53:56.318262Z"
    },
    "trusted": true
   },
   "outputs": [
    {
     "data": {
      "text/plain": [
       "0        1\n",
       "1        0\n",
       "2        1\n",
       "3        1\n",
       "4        1\n",
       "        ..\n",
       "32576    0\n",
       "32577    0\n",
       "32578    1\n",
       "32579    0\n",
       "32580    0\n",
       "Name: loan_status, Length: 32581, dtype: int64"
      ]
     },
     "execution_count": 19,
     "metadata": {},
     "output_type": "execute_result"
    }
   ],
   "source": [
    "y"
   ]
  },
  {
   "cell_type": "code",
   "execution_count": 32,
   "metadata": {
    "execution": {
     "iopub.execute_input": "2025-09-05T04:55:42.216243Z",
     "iopub.status.busy": "2025-09-05T04:55:42.215904Z",
     "iopub.status.idle": "2025-09-05T04:55:42.220885Z",
     "shell.execute_reply": "2025-09-05T04:55:42.220015Z",
     "shell.execute_reply.started": "2025-09-05T04:55:42.216220Z"
    },
    "trusted": true
   },
   "outputs": [
    {
     "name": "stdout",
     "output_type": "stream",
     "text": [
      "['cb_person_cred_hist_length', 'cb_person_default_on_file', 'emp_length_missing', 'loan_amnt', 'loan_grade_ord', 'loan_int_rate', 'loan_intent_DEBTCONSOLIDATION', 'loan_intent_EDUCATION', 'loan_intent_HOMEIMPROVEMENT', 'loan_intent_MEDICAL', 'loan_intent_PERSONAL', 'loan_intent_VENTURE', 'loan_percent_income', 'person_age', 'person_emp_length', 'person_home_ownership_MORTGAGE', 'person_home_ownership_OTHER', 'person_home_ownership_OWN', 'person_home_ownership_RENT', 'person_income']\n"
     ]
    }
   ],
   "source": [
    "print(sorted((X_enc.columns.tolist())))\n"
   ]
  },
  {
   "cell_type": "code",
   "execution_count": 21,
   "metadata": {
    "execution": {
     "iopub.execute_input": "2025-09-05T04:53:56.349473Z",
     "iopub.status.busy": "2025-09-05T04:53:56.349196Z",
     "iopub.status.idle": "2025-09-05T04:53:56.397602Z",
     "shell.execute_reply": "2025-09-05T04:53:56.396790Z",
     "shell.execute_reply.started": "2025-09-05T04:53:56.349450Z"
    },
    "trusted": true
   },
   "outputs": [
    {
     "name": "stdout",
     "output_type": "stream",
     "text": [
      "Train: (19548, 20) Valid: (6516, 20) Test: (6517, 20)\n",
      "Class balance in train: 0.21818088807039082\n",
      "Class balance in val: 0.21807857581338244\n",
      "Class balance in test: 0.21819855761853613\n"
     ]
    }
   ],
   "source": [
    "from sklearn.model_selection import train_test_split\n",
    "\n",
    "# First split: train+valid vs test\n",
    "X_train_val, X_test, y_train_val, y_test = train_test_split(\n",
    "    X_enc, y, test_size=0.2, random_state=42, stratify=y\n",
    ")\n",
    "\n",
    "# Second split: train vs valid\n",
    "X_train, X_val, y_train, y_val = train_test_split(\n",
    "    X_train_val, y_train_val, test_size=0.25, random_state=42, stratify=y_train_val\n",
    ")\n",
    "\n",
    "print(\"Train:\", X_train.shape, \"Valid:\", X_val.shape, \"Test:\", X_test.shape)\n",
    "print(\"Class balance in train:\", np.mean(y_train))\n",
    "print(\"Class balance in val:\", np.mean(y_val))\n",
    "print(\"Class balance in test:\", np.mean(y_test))\n"
   ]
  },
  {
   "cell_type": "markdown",
   "metadata": {},
   "source": [
    "**LOGISTIC Regression**"
   ]
  },
  {
   "cell_type": "markdown",
   "metadata": {},
   "source": [
    "Logistic regression needs features to be on the same scale (especially numeric ones)."
   ]
  },
  {
   "cell_type": "code",
   "execution_count": 22,
   "metadata": {
    "execution": {
     "iopub.execute_input": "2025-09-05T04:53:56.398681Z",
     "iopub.status.busy": "2025-09-05T04:53:56.398457Z",
     "iopub.status.idle": "2025-09-05T04:53:56.453866Z",
     "shell.execute_reply": "2025-09-05T04:53:56.453052Z",
     "shell.execute_reply.started": "2025-09-05T04:53:56.398663Z"
    },
    "trusted": true
   },
   "outputs": [],
   "source": [
    "from sklearn.linear_model import LogisticRegression\n",
    "from sklearn.preprocessing import StandardScaler\n",
    "from sklearn.metrics import roc_auc_score, classification_report\n",
    "\n",
    "# scale numeric features only\n",
    "num_features = ['person_age', 'person_income', 'person_emp_length', \n",
    "                'loan_amnt', 'loan_int_rate', 'loan_percent_income',\n",
    "                'cb_person_cred_hist_length']\n",
    "\n",
    "scaler = StandardScaler()\n",
    "X_train[num_features] = scaler.fit_transform(X_train[num_features])\n",
    "X_val[num_features]   = scaler.transform(X_val[num_features])\n",
    "X_test[num_features]  = scaler.transform(X_test[num_features])\n"
   ]
  },
  {
   "cell_type": "markdown",
   "metadata": {},
   "source": [
    "We’ll allow class_weight=\"balanced\" so it handles the class imbalance automatically."
   ]
  },
  {
   "cell_type": "code",
   "execution_count": 23,
   "metadata": {
    "execution": {
     "iopub.execute_input": "2025-09-05T04:53:56.455282Z",
     "iopub.status.busy": "2025-09-05T04:53:56.454974Z",
     "iopub.status.idle": "2025-09-05T04:53:56.988118Z",
     "shell.execute_reply": "2025-09-05T04:53:56.987209Z",
     "shell.execute_reply.started": "2025-09-05T04:53:56.455257Z"
    },
    "trusted": true
   },
   "outputs": [
    {
     "data": {
      "text/html": [
       "<style>#sk-container-id-1 {color: black;background-color: white;}#sk-container-id-1 pre{padding: 0;}#sk-container-id-1 div.sk-toggleable {background-color: white;}#sk-container-id-1 label.sk-toggleable__label {cursor: pointer;display: block;width: 100%;margin-bottom: 0;padding: 0.3em;box-sizing: border-box;text-align: center;}#sk-container-id-1 label.sk-toggleable__label-arrow:before {content: \"▸\";float: left;margin-right: 0.25em;color: #696969;}#sk-container-id-1 label.sk-toggleable__label-arrow:hover:before {color: black;}#sk-container-id-1 div.sk-estimator:hover label.sk-toggleable__label-arrow:before {color: black;}#sk-container-id-1 div.sk-toggleable__content {max-height: 0;max-width: 0;overflow: hidden;text-align: left;background-color: #f0f8ff;}#sk-container-id-1 div.sk-toggleable__content pre {margin: 0.2em;color: black;border-radius: 0.25em;background-color: #f0f8ff;}#sk-container-id-1 input.sk-toggleable__control:checked~div.sk-toggleable__content {max-height: 200px;max-width: 100%;overflow: auto;}#sk-container-id-1 input.sk-toggleable__control:checked~label.sk-toggleable__label-arrow:before {content: \"▾\";}#sk-container-id-1 div.sk-estimator input.sk-toggleable__control:checked~label.sk-toggleable__label {background-color: #d4ebff;}#sk-container-id-1 div.sk-label input.sk-toggleable__control:checked~label.sk-toggleable__label {background-color: #d4ebff;}#sk-container-id-1 input.sk-hidden--visually {border: 0;clip: rect(1px 1px 1px 1px);clip: rect(1px, 1px, 1px, 1px);height: 1px;margin: -1px;overflow: hidden;padding: 0;position: absolute;width: 1px;}#sk-container-id-1 div.sk-estimator {font-family: monospace;background-color: #f0f8ff;border: 1px dotted black;border-radius: 0.25em;box-sizing: border-box;margin-bottom: 0.5em;}#sk-container-id-1 div.sk-estimator:hover {background-color: #d4ebff;}#sk-container-id-1 div.sk-parallel-item::after {content: \"\";width: 100%;border-bottom: 1px solid gray;flex-grow: 1;}#sk-container-id-1 div.sk-label:hover label.sk-toggleable__label {background-color: #d4ebff;}#sk-container-id-1 div.sk-serial::before {content: \"\";position: absolute;border-left: 1px solid gray;box-sizing: border-box;top: 0;bottom: 0;left: 50%;z-index: 0;}#sk-container-id-1 div.sk-serial {display: flex;flex-direction: column;align-items: center;background-color: white;padding-right: 0.2em;padding-left: 0.2em;position: relative;}#sk-container-id-1 div.sk-item {position: relative;z-index: 1;}#sk-container-id-1 div.sk-parallel {display: flex;align-items: stretch;justify-content: center;background-color: white;position: relative;}#sk-container-id-1 div.sk-item::before, #sk-container-id-1 div.sk-parallel-item::before {content: \"\";position: absolute;border-left: 1px solid gray;box-sizing: border-box;top: 0;bottom: 0;left: 50%;z-index: -1;}#sk-container-id-1 div.sk-parallel-item {display: flex;flex-direction: column;z-index: 1;position: relative;background-color: white;}#sk-container-id-1 div.sk-parallel-item:first-child::after {align-self: flex-end;width: 50%;}#sk-container-id-1 div.sk-parallel-item:last-child::after {align-self: flex-start;width: 50%;}#sk-container-id-1 div.sk-parallel-item:only-child::after {width: 0;}#sk-container-id-1 div.sk-dashed-wrapped {border: 1px dashed gray;margin: 0 0.4em 0.5em 0.4em;box-sizing: border-box;padding-bottom: 0.4em;background-color: white;}#sk-container-id-1 div.sk-label label {font-family: monospace;font-weight: bold;display: inline-block;line-height: 1.2em;}#sk-container-id-1 div.sk-label-container {text-align: center;}#sk-container-id-1 div.sk-container {/* jupyter's `normalize.less` sets `[hidden] { display: none; }` but bootstrap.min.css set `[hidden] { display: none !important; }` so we also need the `!important` here to be able to override the default hidden behavior on the sphinx rendered scikit-learn.org. See: https://github.com/scikit-learn/scikit-learn/issues/21755 */display: inline-block !important;position: relative;}#sk-container-id-1 div.sk-text-repr-fallback {display: none;}</style><div id=\"sk-container-id-1\" class=\"sk-top-container\"><div class=\"sk-text-repr-fallback\"><pre>LogisticRegression(class_weight=&#x27;balanced&#x27;, max_iter=1000)</pre><b>In a Jupyter environment, please rerun this cell to show the HTML representation or trust the notebook. <br />On GitHub, the HTML representation is unable to render, please try loading this page with nbviewer.org.</b></div><div class=\"sk-container\" hidden><div class=\"sk-item\"><div class=\"sk-estimator sk-toggleable\"><input class=\"sk-toggleable__control sk-hidden--visually\" id=\"sk-estimator-id-1\" type=\"checkbox\" checked><label for=\"sk-estimator-id-1\" class=\"sk-toggleable__label sk-toggleable__label-arrow\">LogisticRegression</label><div class=\"sk-toggleable__content\"><pre>LogisticRegression(class_weight=&#x27;balanced&#x27;, max_iter=1000)</pre></div></div></div></div></div>"
      ],
      "text/plain": [
       "LogisticRegression(class_weight='balanced', max_iter=1000)"
      ]
     },
     "execution_count": 23,
     "metadata": {},
     "output_type": "execute_result"
    }
   ],
   "source": [
    "log_reg = LogisticRegression(max_iter=1000, class_weight=\"balanced\", solver='lbfgs')\n",
    "log_reg.fit(X_train, y_train)\n"
   ]
  },
  {
   "cell_type": "markdown",
   "metadata": {},
   "source": [
    "We’ll use AUC as the main metric, but also check precision/recall."
   ]
  },
  {
   "cell_type": "code",
   "execution_count": 24,
   "metadata": {
    "execution": {
     "iopub.execute_input": "2025-09-05T04:53:56.990480Z",
     "iopub.status.busy": "2025-09-05T04:53:56.989976Z",
     "iopub.status.idle": "2025-09-05T04:53:57.043661Z",
     "shell.execute_reply": "2025-09-05T04:53:57.043011Z",
     "shell.execute_reply.started": "2025-09-05T04:53:56.990457Z"
    },
    "trusted": true
   },
   "outputs": [
    {
     "name": "stdout",
     "output_type": "stream",
     "text": [
      "Validation AUC: 0.8613889926719562\n",
      "              precision    recall  f1-score   support\n",
      "\n",
      "           0       0.93      0.79      0.85      5095\n",
      "           1       0.51      0.78      0.61      1421\n",
      "\n",
      "    accuracy                           0.79      6516\n",
      "   macro avg       0.72      0.78      0.73      6516\n",
      "weighted avg       0.84      0.79      0.80      6516\n",
      "\n"
     ]
    }
   ],
   "source": [
    "y_val_pred_prob = log_reg.predict_proba(X_val)[:,1]\n",
    "y_val_pred = log_reg.predict(X_val)\n",
    "\n",
    "print(\"Validation AUC:\", roc_auc_score(y_val, y_val_pred_prob))\n",
    "print(classification_report(y_val, y_val_pred))\n"
   ]
  },
  {
   "cell_type": "markdown",
   "metadata": {},
   "source": [
    "📊 Metrics you got\n",
    "\n",
    "Validation AUC = 0.86\n",
    "\n",
    "This means the model is very good at ranking risky vs. safe borrowers.\n",
    "\n",
    "In plain terms: if you randomly pick one defaulter and one non-defaulter, the model has an 86% chance of ranking the defaulter higher risk.\n",
    "\n",
    "In credit risk, anything above 0.75–0.80 is considered strong.\n",
    "\n",
    "🔎 Confusion matrix results (from precision/recall):\n",
    "\n",
    "Class 0 (non-default):\n",
    "\n",
    "Precision: 0.93 → When the model predicts \"no default,\" it's correct 93% of the time.\n",
    "\n",
    "Recall: 0.79 → It catches about 79% of the actual non-defaulters.\n",
    "\n",
    "Class 1 (default):\n",
    "\n",
    "Precision: 0.51 → When the model predicts \"default,\" it’s only correct about half the time.\n",
    "\n",
    "Recall: 0.78 → But it does catch most of the defaulters (78%).\n",
    "\n",
    "🎯 Overall accuracy = 79%\n",
    "\n",
    "Sounds good, but accuracy isn’t the best metric here because the dataset is imbalanced (~22% default).\n",
    "\n",
    "That’s why AUC and recall are more informative.\n",
    "\n",
    "💡 Interpretation for credit risk:\n",
    "\n",
    "The model is conservative in predicting default: it misses some but catches a lot of them (78% recall).\n",
    "\n",
    "However, it also false-alarms quite a bit: half the predicted defaults are actually safe borrowers (precision = 0.51).\n",
    "\n",
    "This tradeoff is actually common in banking: models are often tuned to catch more bad borrowers (higher recall) at the cost of some false positives, because approving a defaulter is riskier than rejecting a safe borrower."
   ]
  },
  {
   "cell_type": "markdown",
   "metadata": {},
   "source": [
    "So your model is:\n",
    "\n",
    "Strong overall (AUC 0.86).\n",
    "\n",
    "Biased toward catching defaulters (good recall).\n",
    "\n",
    "Needs work to improve precision on defaulters."
   ]
  },
  {
   "cell_type": "code",
   "execution_count": 25,
   "metadata": {
    "execution": {
     "iopub.execute_input": "2025-09-05T04:53:57.045538Z",
     "iopub.status.busy": "2025-09-05T04:53:57.044578Z",
     "iopub.status.idle": "2025-09-05T04:53:57.448069Z",
     "shell.execute_reply": "2025-09-05T04:53:57.447185Z",
     "shell.execute_reply.started": "2025-09-05T04:53:57.045513Z"
    },
    "trusted": true
   },
   "outputs": [
    {
     "data": {
      "image/png": "[encoded data removed]",
      "text/plain": [
       "<Figure size 800x600 with 1 Axes>"
      ]
     },
     "metadata": {},
     "output_type": "display_data"
    },
    {
     "data": {
      "text/html": [
       "<div>\n",
       "<style scoped>\n",
       "    .dataframe tbody tr th:only-of-type {\n",
       "        vertical-align: middle;\n",
       "    }\n",
       "\n",
       "    .dataframe tbody tr th {\n",
       "        vertical-align: top;\n",
       "    }\n",
       "\n",
       "    .dataframe thead th {\n",
       "        text-align: right;\n",
       "    }\n",
       "</style>\n",
       "<table border=\"1\" class=\"dataframe\">\n",
       "  <thead>\n",
       "    <tr style=\"text-align: right;\">\n",
       "      <th></th>\n",
       "      <th>feature</th>\n",
       "      <th>coefficient</th>\n",
       "    </tr>\n",
       "  </thead>\n",
       "  <tbody>\n",
       "    <tr>\n",
       "      <th>5</th>\n",
       "      <td>loan_percent_income</td>\n",
       "      <td>1.305090</td>\n",
       "    </tr>\n",
       "    <tr>\n",
       "      <th>19</th>\n",
       "      <td>loan_grade_ord</td>\n",
       "      <td>0.929018</td>\n",
       "    </tr>\n",
       "    <tr>\n",
       "      <th>12</th>\n",
       "      <td>person_home_ownership_RENT</td>\n",
       "      <td>0.897737</td>\n",
       "    </tr>\n",
       "    <tr>\n",
       "      <th>7</th>\n",
       "      <td>emp_length_missing</td>\n",
       "      <td>0.817244</td>\n",
       "    </tr>\n",
       "    <tr>\n",
       "      <th>15</th>\n",
       "      <td>loan_intent_HOMEIMPROVEMENT</td>\n",
       "      <td>0.547035</td>\n",
       "    </tr>\n",
       "    <tr>\n",
       "      <th>13</th>\n",
       "      <td>loan_intent_DEBTCONSOLIDATION</td>\n",
       "      <td>0.389880</td>\n",
       "    </tr>\n",
       "    <tr>\n",
       "      <th>10</th>\n",
       "      <td>person_home_ownership_OTHER</td>\n",
       "      <td>0.274621</td>\n",
       "    </tr>\n",
       "    <tr>\n",
       "      <th>16</th>\n",
       "      <td>loan_intent_MEDICAL</td>\n",
       "      <td>0.231556</td>\n",
       "    </tr>\n",
       "    <tr>\n",
       "      <th>9</th>\n",
       "      <td>person_home_ownership_MORTGAGE</td>\n",
       "      <td>0.181346</td>\n",
       "    </tr>\n",
       "    <tr>\n",
       "      <th>1</th>\n",
       "      <td>person_income</td>\n",
       "      <td>0.023782</td>\n",
       "    </tr>\n",
       "    <tr>\n",
       "      <th>6</th>\n",
       "      <td>cb_person_cred_hist_length</td>\n",
       "      <td>-0.000812</td>\n",
       "    </tr>\n",
       "    <tr>\n",
       "      <th>0</th>\n",
       "      <td>person_age</td>\n",
       "      <td>-0.006260</td>\n",
       "    </tr>\n",
       "    <tr>\n",
       "      <th>4</th>\n",
       "      <td>loan_int_rate</td>\n",
       "      <td>-0.015639</td>\n",
       "    </tr>\n",
       "    <tr>\n",
       "      <th>2</th>\n",
       "      <td>person_emp_length</td>\n",
       "      <td>-0.023591</td>\n",
       "    </tr>\n",
       "    <tr>\n",
       "      <th>17</th>\n",
       "      <td>loan_intent_PERSONAL</td>\n",
       "      <td>-0.075233</td>\n",
       "    </tr>\n",
       "    <tr>\n",
       "      <th>8</th>\n",
       "      <td>cb_person_default_on_file</td>\n",
       "      <td>-0.134911</td>\n",
       "    </tr>\n",
       "    <tr>\n",
       "      <th>14</th>\n",
       "      <td>loan_intent_EDUCATION</td>\n",
       "      <td>-0.370273</td>\n",
       "    </tr>\n",
       "    <tr>\n",
       "      <th>3</th>\n",
       "      <td>loan_amnt</td>\n",
       "      <td>-0.583485</td>\n",
       "    </tr>\n",
       "    <tr>\n",
       "      <th>18</th>\n",
       "      <td>loan_intent_VENTURE</td>\n",
       "      <td>-0.736692</td>\n",
       "    </tr>\n",
       "    <tr>\n",
       "      <th>11</th>\n",
       "      <td>person_home_ownership_OWN</td>\n",
       "      <td>-1.367429</td>\n",
       "    </tr>\n",
       "  </tbody>\n",
       "</table>\n",
       "</div>"
      ],
      "text/plain": [
       "                           feature  coefficient\n",
       "5              loan_percent_income     1.305090\n",
       "19                  loan_grade_ord     0.929018\n",
       "12      person_home_ownership_RENT     0.897737\n",
       "7               emp_length_missing     0.817244\n",
       "15     loan_intent_HOMEIMPROVEMENT     0.547035\n",
       "13   loan_intent_DEBTCONSOLIDATION     0.389880\n",
       "10     person_home_ownership_OTHER     0.274621\n",
       "16             loan_intent_MEDICAL     0.231556\n",
       "9   person_home_ownership_MORTGAGE     0.181346\n",
       "1                    person_income     0.023782\n",
       "6       cb_person_cred_hist_length    -0.000812\n",
       "0                       person_age    -0.006260\n",
       "4                    loan_int_rate    -0.015639\n",
       "2                person_emp_length    -0.023591\n",
       "17            loan_intent_PERSONAL    -0.075233\n",
       "8        cb_person_default_on_file    -0.134911\n",
       "14           loan_intent_EDUCATION    -0.370273\n",
       "3                        loan_amnt    -0.583485\n",
       "18             loan_intent_VENTURE    -0.736692\n",
       "11       person_home_ownership_OWN    -1.367429"
      ]
     },
     "execution_count": 25,
     "metadata": {},
     "output_type": "execute_result"
    }
   ],
   "source": [
    "# ## Step 5: Interpret Logistic Regression Coefficients\n",
    "\n",
    "import matplotlib.pyplot as plt\n",
    "\n",
    "# Sort coefficients by magnitude\n",
    "coef_df = pd.DataFrame({\n",
    "    \"feature\": X_train.columns,\n",
    "    \"coefficient\": log_reg.coef_[0]\n",
    "}).sort_values(by=\"coefficient\", ascending=False)\n",
    "\n",
    "# Plot\n",
    "plt.figure(figsize=(8,6))\n",
    "coef_df.set_index(\"feature\")[\"coefficient\"].plot(kind=\"barh\")\n",
    "plt.title(\"Logistic Regression Coefficients (Impact on Default Odds)\")\n",
    "plt.axvline(0, color=\"black\", linewidth=1)\n",
    "plt.show()\n",
    "\n",
    "coef_df\n"
   ]
  },
  {
   "cell_type": "markdown",
   "metadata": {},
   "source": [
    "**RANDOM FOREST**"
   ]
  },
  {
   "cell_type": "code",
   "execution_count": 26,
   "metadata": {
    "execution": {
     "iopub.execute_input": "2025-09-05T04:53:57.449416Z",
     "iopub.status.busy": "2025-09-05T04:53:57.449109Z",
     "iopub.status.idle": "2025-09-05T04:54:00.052847Z",
     "shell.execute_reply": "2025-09-05T04:54:00.052138Z",
     "shell.execute_reply.started": "2025-09-05T04:53:57.449390Z"
    },
    "trusted": true
   },
   "outputs": [
    {
     "name": "stdout",
     "output_type": "stream",
     "text": [
      "Random Forest Validation AUC: 0.9273708061953081\n",
      "              precision    recall  f1-score   support\n",
      "\n",
      "           0       0.93      0.97      0.95      5095\n",
      "           1       0.88      0.74      0.80      1421\n",
      "\n",
      "    accuracy                           0.92      6516\n",
      "   macro avg       0.90      0.85      0.87      6516\n",
      "weighted avg       0.92      0.92      0.92      6516\n",
      "\n"
     ]
    }
   ],
   "source": [
    "from sklearn.ensemble import RandomForestClassifier\n",
    "from sklearn.metrics import roc_auc_score, classification_report\n",
    "\n",
    "# Train\n",
    "rf = RandomForestClassifier(\n",
    "    n_estimators=300,   # number of trees\n",
    "    max_depth=10,       # prevent overfitting\n",
    "    random_state=42,\n",
    "    n_jobs=-1,\n",
    "    class_weight=\"balanced\"  # handle class imbalance\n",
    ")\n",
    "rf.fit(X_train, y_train)\n",
    "\n",
    "# Validate\n",
    "rf_probs = rf.predict_proba(X_val)[:,1]\n",
    "rf_preds = rf.predict(X_val)\n",
    "\n",
    "rf_auc = roc_auc_score(y_val, rf_probs)\n",
    "print(\"Random Forest Validation AUC:\", rf_auc)\n",
    "print(classification_report(y_val, rf_preds))\n"
   ]
  },
  {
   "cell_type": "markdown",
   "metadata": {},
   "source": [
    "🔎 Random Forest\n",
    "\n",
    "AUC = 0.927 → Strong discrimination ability.\n",
    "\n",
    "Class 1 (defaults): Recall = 0.74 → It catches ~74% of defaults.\n",
    "\n",
    "Precision = 0.88 → Of the loans flagged as risky, 88% are truly defaults.\n",
    "\n",
    "F1 = 0.80 → Good balance between catching defaults and avoiding false alarms."
   ]
  },
  {
   "cell_type": "code",
   "execution_count": 27,
   "metadata": {
    "execution": {
     "iopub.execute_input": "2025-09-05T04:54:00.057839Z",
     "iopub.status.busy": "2025-09-05T04:54:00.057538Z",
     "iopub.status.idle": "2025-09-05T04:54:07.097577Z",
     "shell.execute_reply": "2025-09-05T04:54:07.096633Z",
     "shell.execute_reply.started": "2025-09-05T04:54:00.057811Z"
    },
    "trusted": true
   },
   "outputs": [
    {
     "name": "stdout",
     "output_type": "stream",
     "text": [
      "[0]\tvalidation_0-auc:0.89533\n"
     ]
    },
    {
     "name": "stderr",
     "output_type": "stream",
     "text": [
      "/usr/local/lib/python3.11/dist-packages/xgboost/sklearn.py:889: UserWarning: `eval_metric` in `fit` method is deprecated for better compatibility with scikit-learn, use `eval_metric` in constructor or`set_params` instead.\n",
      "  warnings.warn(\n"
     ]
    },
    {
     "name": "stdout",
     "output_type": "stream",
     "text": [
      "[50]\tvalidation_0-auc:0.92933\n",
      "[100]\tvalidation_0-auc:0.93519\n",
      "[150]\tvalidation_0-auc:0.94026\n",
      "[200]\tvalidation_0-auc:0.94385\n",
      "[250]\tvalidation_0-auc:0.94500\n",
      "[300]\tvalidation_0-auc:0.94655\n",
      "[350]\tvalidation_0-auc:0.94685\n",
      "[400]\tvalidation_0-auc:0.94771\n",
      "[450]\tvalidation_0-auc:0.94819\n",
      "[499]\tvalidation_0-auc:0.94806\n",
      "XGBoost Validation AUC: 0.9480567320833785\n",
      "              precision    recall  f1-score   support\n",
      "\n",
      "           0       0.94      0.97      0.95      5095\n",
      "           1       0.86      0.78      0.82      1421\n",
      "\n",
      "    accuracy                           0.93      6516\n",
      "   macro avg       0.90      0.87      0.89      6516\n",
      "weighted avg       0.92      0.93      0.92      6516\n",
      "\n"
     ]
    }
   ],
   "source": [
    "from xgboost import XGBClassifier\n",
    "\n",
    "# Train\n",
    "xgb = XGBClassifier(\n",
    "    n_estimators=500,\n",
    "    max_depth=6,\n",
    "    learning_rate=0.05,\n",
    "    subsample=0.8,\n",
    "    colsample_bytree=0.8,\n",
    "    random_state=42,\n",
    "    scale_pos_weight=(len(y_train)-sum(y_train))/sum(y_train)  # handle imbalance\n",
    ")\n",
    "xgb.fit(X_train, y_train, eval_set=[(X_val, y_val)], eval_metric=\"auc\", verbose=50)\n",
    "\n",
    "# Validate\n",
    "xgb_probs = xgb.predict_proba(X_val)[:,1]\n",
    "xgb_preds = xgb.predict(X_val)\n",
    "\n",
    "xgb_auc = roc_auc_score(y_val, xgb_probs)\n",
    "print(\"XGBoost Validation AUC:\", xgb_auc)\n",
    "print(classification_report(y_val, xgb_preds))\n"
   ]
  },
  {
   "cell_type": "markdown",
   "metadata": {},
   "source": [
    "⚡ XGBoost\n",
    "\n",
    "AUC = 0.948 → Even stronger, this is excellent.\n",
    "\n",
    "Class 1 (defaults): Recall = 0.78 → Catches more defaults than Random Forest.\n",
    "\n",
    "Precision = 0.86 → Slightly less precise than RF, but recall improved.\n",
    "\n",
    "F1 = 0.82 → Best balance overall."
   ]
  },
  {
   "cell_type": "markdown",
   "metadata": {},
   "source": [
    "✅ Takeaway:\n",
    "\n",
    "Logistic Regression (baseline): AUC ~0.86\n",
    "\n",
    "Random Forest: AUC ~0.93\n",
    "\n",
    "XGBoost: AUC ~0.95\n",
    "\n",
    "So far, XGBoost wins — better overall balance, higher AUC, and strong default detection."
   ]
  },
  {
   "cell_type": "markdown",
   "metadata": {},
   "source": [
    "\n",
    "export metadata\n"
   ]
  },
  {
   "cell_type": "code",
   "execution_count": 28,
   "metadata": {
    "execution": {
     "iopub.execute_input": "2025-09-05T04:54:07.098696Z",
     "iopub.status.busy": "2025-09-05T04:54:07.098415Z",
     "iopub.status.idle": "2025-09-05T04:54:07.103538Z",
     "shell.execute_reply": "2025-09-05T04:54:07.102692Z",
     "shell.execute_reply.started": "2025-09-05T04:54:07.098672Z"
    },
    "trusted": true
   },
   "outputs": [],
   "source": [
    "metadata = {\n",
    "    \"medians\": medians,\n",
    "    # keep the feature group lists used during training (useful for assembling/filling columns)\n",
    "    \"num_features\": num_features,\n",
    "    \"cat_onehot\": cat_onehot,\n",
    "    \"ord_features\": ord_features,\n",
    "    \"ord_categories\": ord_categories\n",
    "}"
   ]
  },
  {
   "cell_type": "code",
   "execution_count": 35,
   "metadata": {
    "execution": {
     "iopub.execute_input": "2025-09-05T05:08:36.661135Z",
     "iopub.status.busy": "2025-09-05T05:08:36.660810Z",
     "iopub.status.idle": "2025-09-05T05:08:36.680141Z",
     "shell.execute_reply": "2025-09-05T05:08:36.679326Z",
     "shell.execute_reply.started": "2025-09-05T05:08:36.661113Z"
    },
    "trusted": true
   },
   "outputs": [
    {
     "name": "stdout",
     "output_type": "stream",
     "text": [
      "✅ Saved preprocess, model, and feature names\n"
     ]
    }
   ],
   "source": [
    "import joblib\n",
    "joblib.dump(preprocess, \"preprocess.joblib\")\n",
    "joblib.dump(xgb, \"xgb_model.joblib\")\n",
    "joblib.dump(feature_names, \"feature_names.joblib\")\n",
    "joblib.dump(metadata, \"metadata.joblib\")\n",
    "print(\"✅ Saved preprocess, model, and feature names\")"
   ]
  },
  {
   "cell_type": "code",
   "execution_count": 36,
   "metadata": {
    "execution": {
     "iopub.execute_input": "2025-09-05T05:13:34.156568Z",
     "iopub.status.busy": "2025-09-05T05:13:34.156257Z",
     "iopub.status.idle": "2025-09-05T05:13:34.162407Z",
     "shell.execute_reply": "2025-09-05T05:13:34.161751Z",
     "shell.execute_reply.started": "2025-09-05T05:13:34.156546Z"
    },
    "trusted": true
   },
   "outputs": [
    {
     "data": {
      "text/plain": [
       "['metadata.joblib']"
      ]
     },
     "execution_count": 36,
     "metadata": {},
     "output_type": "execute_result"
    }
   ],
   "source": []
  },
  {
   "cell_type": "code",
   "execution_count": null,
   "metadata": {
    "trusted": true
   },
   "outputs": [],
   "source": []
  }
 ],
 "metadata": {
  "kaggle": {
   "accelerator": "none",
   "dataSources": [
    {
     "datasetId": 688532,
     "sourceId": 1207035,
     "sourceType": "datasetVersion"
    }
   ],
   "dockerImageVersionId": 31089,
   "isGpuEnabled": false,
   "isInternetEnabled": false,
   "language": "python",
   "sourceType": "notebook"
  },
  "kernelspec": {
   "display_name": "Python 3",
   "language": "python",
   "name": "python3"
  },
  "language_info": {
   "codemirror_mode": {
    "name": "ipython",
    "version": 3
   },
   "file_extension": ".py",
   "mimetype": "text/x-python",
   "name": "python",
   "nbconvert_exporter": "python",
   "pygments_lexer": "ipython3",
   "version": "3.13.1"
  }
 },
 "nbformat": 4,
 "nbformat_minor": 4
}
